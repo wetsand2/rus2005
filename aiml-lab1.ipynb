{
 "cells": [
  {
   "cell_type": "markdown",
   "id": "3c5a7c74-68c5-48f8-9e79-0a9cbca1e8c8",
   "metadata": {},
   "source": [
    "# Модуль 2. Лабораторная работа"
   ]
  },
  {
   "cell_type": "markdown",
   "id": "a97a16b7-ecc8-43db-a460-aaea81feb147",
   "metadata": {},
   "source": [
    "<b>Цель работы: </b> построение и применение моделей машинного обучения к несбалансированным данным."
   ]
  },
  {
   "cell_type": "code",
   "execution_count": 31,
   "id": "8d50fa0a",
   "metadata": {
    "_cell_guid": "b1076dfc-b9ad-4769-8c92-a6c4dae69d19",
    "_uuid": "8f2839f25d086af736a60e9eeb907d3b93b6e0e5",
    "papermill": {
     "duration": 2.13916,
     "end_time": "2023-04-05T13:02:41.831527",
     "exception": false,
     "start_time": "2023-04-05T13:02:39.692367",
     "status": "completed"
    },
    "tags": []
   },
   "outputs": [],
   "source": [
    "import numpy as np\n",
    "import pandas as pd\n",
    "import os\n",
    "from pathlib import Path\n",
    "import seaborn as sns\n",
    "from matplotlib import pyplot as plt\n",
    "from sklearn.metrics import balanced_accuracy_score\n",
    "from imblearn.metrics import classification_report_imbalanced\n",
    "\n",
    "pd.set_option('display.float_format', lambda x: '%.2f' % x)"
   ]
  },
  {
   "cell_type": "code",
   "execution_count": null,
   "id": "fc23bafc-afe5-457c-9b24-11a7e36705a7",
   "metadata": {},
   "outputs": [],
   "source": [
    "# Загрузите датасет и выведите его как таблицу"
   ]
  },
  {
   "cell_type": "markdown",
   "id": "9d80ca80",
   "metadata": {
    "papermill": {
     "duration": 0.013855,
     "end_time": "2023-04-05T13:02:42.092181",
     "exception": false,
     "start_time": "2023-04-05T13:02:42.078326",
     "status": "completed"
    },
    "tags": []
   },
   "source": [
    "# Построение модели линейной регрессии для предсказания дохода заемщика"
   ]
  },
  {
   "cell_type": "code",
   "execution_count": null,
   "id": "9ff0f186-76a1-4d1f-b57c-63e173c1f8de",
   "metadata": {},
   "outputs": [],
   "source": [
    "# Постройте гистограмму дохода заемщика (borrower_income)\n",
    "\n",
    "# ваш код здесь"
   ]
  },
  {
   "cell_type": "code",
   "execution_count": null,
   "id": "060dffb6",
   "metadata": {
    "papermill": {
     "duration": 0.040386,
     "end_time": "2023-04-05T13:02:43.442970",
     "exception": false,
     "start_time": "2023-04-05T13:02:43.402584",
     "status": "completed"
    },
    "tags": []
   },
   "outputs": [],
   "source": [
    "# Применим лог трансформ к таргетной переменной\n",
    "df['borrower_income'] = np.log(df['borrower_income'])\n",
    "\n",
    "y = df['borrower_income'].values\n",
    "y"
   ]
  },
  {
   "cell_type": "markdown",
   "id": "fe399c57",
   "metadata": {
    "papermill": {
     "duration": 0.014993,
     "end_time": "2023-04-05T13:02:43.473549",
     "exception": false,
     "start_time": "2023-04-05T13:02:43.458556",
     "status": "completed"
    },
    "tags": []
   },
   "source": [
    "### Нормализация данных"
   ]
  },
  {
   "cell_type": "code",
   "execution_count": null,
   "id": "e9a77b1b-cafa-45d1-ba08-e6790cc90f90",
   "metadata": {},
   "outputs": [],
   "source": [
    "# 1. Удалите ненужные колонки ('borrower_income', 'debt_to_income', 'loan_status')\n",
    "\n",
    "# ваш код здесь\n"
   ]
  },
  {
   "cell_type": "code",
   "execution_count": null,
   "id": "eaab5776-5118-4ab7-b09e-0baa0f05fea9",
   "metadata": {},
   "outputs": [],
   "source": [
    "# 2. Используйте StandardScaler из библиотеки sklearn для нормализации численных данных\n",
    "from sklearn.preprocessing import StandardScaler\n",
    "\n",
    "# ваш код здесь"
   ]
  },
  {
   "cell_type": "code",
   "execution_count": null,
   "id": "751ff43d-439b-4053-86aa-470c3711623f",
   "metadata": {},
   "outputs": [],
   "source": [
    "# Не забудьте обозначить нормализованные признаки за Х\n",
    "\n",
    "# ваш код здесь"
   ]
  },
  {
   "cell_type": "markdown",
   "id": "ae4649f3",
   "metadata": {
    "papermill": {
     "duration": 0.015439,
     "end_time": "2023-04-05T13:02:43.627396",
     "exception": false,
     "start_time": "2023-04-05T13:02:43.611957",
     "status": "completed"
    },
    "tags": []
   },
   "source": [
    "### Деление данных на тренировочные и тестовые выборки"
   ]
  },
  {
   "cell_type": "code",
   "execution_count": null,
   "id": "7e877d9f-877c-46a1-a398-6ed776d2def6",
   "metadata": {},
   "outputs": [],
   "source": [
    "# Используйте train_test_split для деления данных на выборки\n",
    "from sklearn.model_selection import train_test_split\n",
    "\n",
    "# ваш код здесь"
   ]
  },
  {
   "cell_type": "markdown",
   "id": "204de702",
   "metadata": {
    "papermill": {
     "duration": 0.015395,
     "end_time": "2023-04-05T13:02:43.709878",
     "exception": false,
     "start_time": "2023-04-05T13:02:43.694483",
     "status": "completed"
    },
    "tags": []
   },
   "source": [
    "### Построение модели"
   ]
  },
  {
   "cell_type": "code",
   "execution_count": null,
   "id": "c560585b",
   "metadata": {
    "papermill": {
     "duration": 0.056127,
     "end_time": "2023-04-05T13:02:43.781469",
     "exception": false,
     "start_time": "2023-04-05T13:02:43.725342",
     "status": "completed"
    },
    "tags": []
   },
   "outputs": [],
   "source": [
    "# Инициализируйте модель линейной регрессии и примерьте тренировочные данные\n",
    "from sklearn.linear_model import LinearRegression\n",
    "\n",
    "# ваш код здесь"
   ]
  },
  {
   "cell_type": "code",
   "execution_count": null,
   "id": "b7703e77-3563-441b-bfc6-29b9151cb452",
   "metadata": {},
   "outputs": [],
   "source": [
    "# сделайте предсказания, воспользовавшись методом predict\n",
    "\n",
    "# ваш код здесь\n",
    "y_train_pred = model.predict(X_train)"
   ]
  },
  {
   "cell_type": "markdown",
   "id": "49adb537-db98-4de1-b729-b0273a1c5524",
   "metadata": {},
   "source": [
    "### Оценка модели (замените переменные, если нужно)"
   ]
  },
  {
   "cell_type": "code",
   "execution_count": null,
   "id": "a58dbae0",
   "metadata": {
    "papermill": {
     "duration": 0.050801,
     "end_time": "2023-04-05T13:02:43.965382",
     "exception": false,
     "start_time": "2023-04-05T13:02:43.914581",
     "status": "completed"
    },
    "tags": []
   },
   "outputs": [],
   "source": [
    "from sklearn.metrics import mean_squared_error, mean_absolute_error, r2_score\n",
    "from scipy import stats\n",
    "\n",
    "print(\"R-squared score:\", r2_score(y_train, y_train_pred))\n",
    "print(\"MSE:\", mean_squared_error(y_train, y_train_pred))"
   ]
  },
  {
   "cell_type": "code",
   "execution_count": null,
   "id": "829b24ae",
   "metadata": {
    "papermill": {
     "duration": 0.044457,
     "end_time": "2023-04-05T13:02:44.025735",
     "exception": false,
     "start_time": "2023-04-05T13:02:43.981278",
     "status": "completed"
    },
    "tags": []
   },
   "outputs": [],
   "source": [
    "y_train = np.exp(y_train)\n",
    "y_train_pred = np.exp(y_train_pred)\n",
    "\n",
    "df1 = pd.DataFrame(data = y_train, columns = ['y_true'])\n",
    "df2 = pd.DataFrame(data = y_train_pred, columns = ['prediction'])\n",
    "\n",
    "train_pred = pd.concat([df1, df2],  axis=1)\n",
    "\n",
    "display(train_pred)"
   ]
  },
  {
   "cell_type": "markdown",
   "id": "21134d59",
   "metadata": {
    "papermill": {
     "duration": 0.021304,
     "end_time": "2023-04-05T13:02:44.072086",
     "exception": false,
     "start_time": "2023-04-05T13:02:44.050782",
     "status": "completed"
    },
    "tags": []
   },
   "source": [
    "### Предсказания на тестовой выборке"
   ]
  },
  {
   "cell_type": "code",
   "execution_count": null,
   "id": "8f022ea9",
   "metadata": {
    "papermill": {
     "duration": 0.036787,
     "end_time": "2023-04-05T13:02:44.125915",
     "exception": false,
     "start_time": "2023-04-05T13:02:44.089128",
     "status": "completed"
    },
    "tags": []
   },
   "outputs": [],
   "source": [
    "# сделайте предсказания, воспользовавшись методом predict\n",
    "\n",
    "# ваш код здесь"
   ]
  },
  {
   "cell_type": "code",
   "execution_count": null,
   "id": "95fea8d4",
   "metadata": {
    "papermill": {
     "duration": 0.054416,
     "end_time": "2023-04-05T13:02:44.258364",
     "exception": false,
     "start_time": "2023-04-05T13:02:44.203948",
     "status": "completed"
    },
    "tags": []
   },
   "outputs": [],
   "source": [
    "print(\"R-squared score:\", r2_score(y_test, y_test_pred))\n",
    "print(\"MSE:\", mean_squared_error(y_test, y_test_pred))"
   ]
  },
  {
   "cell_type": "code",
   "execution_count": null,
   "id": "fab36542",
   "metadata": {
    "papermill": {
     "duration": 0.026587,
     "end_time": "2023-04-05T13:02:44.300782",
     "exception": false,
     "start_time": "2023-04-05T13:02:44.274195",
     "status": "completed"
    },
    "tags": []
   },
   "outputs": [],
   "source": [
    "y_test = np.exp(y_test)\n",
    "y_test_pred = np.exp(y_test_pred)"
   ]
  },
  {
   "cell_type": "code",
   "execution_count": null,
   "id": "7fe8dbd4",
   "metadata": {
    "papermill": {
     "duration": 0.035634,
     "end_time": "2023-04-05T13:02:44.352110",
     "exception": false,
     "start_time": "2023-04-05T13:02:44.316476",
     "status": "completed"
    },
    "tags": []
   },
   "outputs": [],
   "source": [
    "df1 = pd.DataFrame(data = y_test, columns = ['y_true'])\n",
    "df2 = pd.DataFrame(data = y_test_pred, columns = ['prediction'])\n",
    "\n",
    "test_pred = pd.concat([df1, df2],  axis=1)\n",
    "\n",
    "display(test_pred)"
   ]
  },
  {
   "cell_type": "code",
   "execution_count": null,
   "id": "cff53e35",
   "metadata": {
    "papermill": {
     "duration": 0.044739,
     "end_time": "2023-04-05T13:02:44.412842",
     "exception": false,
     "start_time": "2023-04-05T13:02:44.368103",
     "status": "completed"
    },
    "tags": []
   },
   "outputs": [],
   "source": [
    "test_pred.describe()"
   ]
  },
  {
   "cell_type": "markdown",
   "id": "0de7e55c",
   "metadata": {
    "papermill": {
     "duration": 0.015801,
     "end_time": "2023-04-05T13:02:44.445295",
     "exception": false,
     "start_time": "2023-04-05T13:02:44.429494",
     "status": "completed"
    },
    "tags": []
   },
   "source": [
    "# Построение модели логистической регрессии для предсказания \"loan_status\" (возможности заемщика выплатить кредит)"
   ]
  },
  {
   "cell_type": "code",
   "execution_count": null,
   "id": "b294dc3b",
   "metadata": {
    "papermill": {
     "duration": 0.037923,
     "end_time": "2023-04-05T13:02:44.545135",
     "exception": false,
     "start_time": "2023-04-05T13:02:44.507212",
     "status": "completed"
    },
    "tags": []
   },
   "outputs": [],
   "source": [
    "display(df)"
   ]
  },
  {
   "cell_type": "code",
   "execution_count": null,
   "id": "98527f86",
   "metadata": {
    "papermill": {
     "duration": 0.02964,
     "end_time": "2023-04-05T13:02:44.591959",
     "exception": false,
     "start_time": "2023-04-05T13:02:44.562319",
     "status": "completed"
    },
    "tags": []
   },
   "outputs": [],
   "source": [
    "# Делим данные на признаки и таргет\n",
    "\n",
    "# отделяем переменную 'loan_status' как таргет\n",
    "# y = ...\n",
    "\n",
    "# остальные переменные оставляем как признаки \n",
    "# X = ..."
   ]
  },
  {
   "cell_type": "code",
   "execution_count": null,
   "id": "98dfd1eb",
   "metadata": {
    "papermill": {
     "duration": 0.030858,
     "end_time": "2023-04-05T13:02:44.640213",
     "exception": false,
     "start_time": "2023-04-05T13:02:44.609355",
     "status": "completed"
    },
    "tags": []
   },
   "outputs": [],
   "source": [
    "# проверяем сбалансированность классов\n",
    "y.value_counts()"
   ]
  },
  {
   "cell_type": "markdown",
   "id": "34f69026",
   "metadata": {
    "papermill": {
     "duration": 0.01603,
     "end_time": "2023-04-05T13:02:44.672574",
     "exception": false,
     "start_time": "2023-04-05T13:02:44.656544",
     "status": "completed"
    },
    "tags": []
   },
   "source": [
    "### Деление данных на тренировочную и тестовую выборки"
   ]
  },
  {
   "cell_type": "code",
   "execution_count": null,
   "id": "ea08a0ea",
   "metadata": {
    "papermill": {
     "duration": 0.04317,
     "end_time": "2023-04-05T13:02:44.733412",
     "exception": false,
     "start_time": "2023-04-05T13:02:44.690242",
     "status": "completed"
    },
    "tags": []
   },
   "outputs": [],
   "source": [
    "# Поделите данные, используя train_test_split\n",
    "# Назначьте random_state = 1 для воспроизводимости\n",
    "\n",
    "# ваш код здесь"
   ]
  },
  {
   "cell_type": "markdown",
   "id": "96e2841a",
   "metadata": {
    "papermill": {
     "duration": 0.016251,
     "end_time": "2023-04-05T13:02:44.766268",
     "exception": false,
     "start_time": "2023-04-05T13:02:44.750017",
     "status": "completed"
    },
    "tags": []
   },
   "source": [
    "### Построение модели"
   ]
  },
  {
   "cell_type": "code",
   "execution_count": null,
   "id": "80f1cfc2",
   "metadata": {
    "papermill": {
     "duration": 0.387448,
     "end_time": "2023-04-05T13:02:45.170156",
     "exception": false,
     "start_time": "2023-04-05T13:02:44.782708",
     "status": "completed"
    },
    "tags": []
   },
   "outputs": [],
   "source": [
    "# Import the LogisticRegression module from SKLearn\n",
    "from sklearn.linear_model import LogisticRegression\n",
    "\n",
    "# Инициируйте модель логистической регрессии\n",
    "# Назначьте random_state = 1 для воспроизводимости\n",
    "\n",
    "# ваш код здесь\n",
    "\n",
    "# Примерьте тренировочные данные к модели\n",
    "\n",
    "# ваш код здесь"
   ]
  },
  {
   "cell_type": "markdown",
   "id": "7f657ba9",
   "metadata": {
    "papermill": {
     "duration": 0.045761,
     "end_time": "2023-04-05T13:02:45.259819",
     "exception": false,
     "start_time": "2023-04-05T13:02:45.214058",
     "status": "completed"
    },
    "tags": []
   },
   "source": [
    "### Предсказания для тестовых данных"
   ]
  },
  {
   "cell_type": "code",
   "execution_count": null,
   "id": "91932688",
   "metadata": {
    "papermill": {
     "duration": 0.032311,
     "end_time": "2023-04-05T13:02:45.321414",
     "exception": false,
     "start_time": "2023-04-05T13:02:45.289103",
     "status": "completed"
    },
    "tags": []
   },
   "outputs": [],
   "source": [
    "# Сделайте предсказания для тестовых данных\n",
    "\n",
    "# ваш код здесь"
   ]
  },
  {
   "cell_type": "markdown",
   "id": "42bffc97",
   "metadata": {
    "papermill": {
     "duration": 0.044595,
     "end_time": "2023-04-05T13:02:45.409785",
     "exception": false,
     "start_time": "2023-04-05T13:02:45.365190",
     "status": "completed"
    },
    "tags": []
   },
   "source": [
    "### Оценка работы модели (на несбалансированных данных)"
   ]
  },
  {
   "cell_type": "code",
   "execution_count": null,
   "id": "86574b10",
   "metadata": {
    "papermill": {
     "duration": 0.032858,
     "end_time": "2023-04-05T13:02:45.474847",
     "exception": false,
     "start_time": "2023-04-05T13:02:45.441989",
     "status": "completed"
    },
    "tags": []
   },
   "outputs": [],
   "source": [
    "# Print the balanced_accuracy score of the model\n",
    "balanced_accuracy_score(y_test, pred)"
   ]
  },
  {
   "cell_type": "code",
   "execution_count": null,
   "id": "570a0c0a",
   "metadata": {
    "papermill": {
     "duration": 0.031388,
     "end_time": "2023-04-05T13:02:45.523186",
     "exception": false,
     "start_time": "2023-04-05T13:02:45.491798",
     "status": "completed"
    },
    "tags": []
   },
   "outputs": [],
   "source": [
    "from sklearn.metrics import confusion_matrix\n",
    "\n",
    "# Generate a confusion matrix for the model\n",
    "print(confusion_matrix(y_test, pred))\n",
    "\n",
    "# TN FP\n",
    "# FN TP"
   ]
  },
  {
   "cell_type": "code",
   "execution_count": null,
   "id": "3c3826d6",
   "metadata": {
    "papermill": {
     "duration": 0.055024,
     "end_time": "2023-04-05T13:02:45.594745",
     "exception": false,
     "start_time": "2023-04-05T13:02:45.539721",
     "status": "completed"
    },
    "tags": []
   },
   "outputs": [],
   "source": [
    "# Print the classification report for the model\n",
    "print(classification_report_imbalanced(y_test, pred))"
   ]
  },
  {
   "cell_type": "markdown",
   "id": "88915468",
   "metadata": {
    "papermill": {
     "duration": 0.01645,
     "end_time": "2023-04-05T13:02:45.628078",
     "exception": false,
     "start_time": "2023-04-05T13:02:45.611628",
     "status": "completed"
    },
    "tags": []
   },
   "source": [
    "### Балансировка классов"
   ]
  },
  {
   "cell_type": "code",
   "execution_count": null,
   "id": "2df25211",
   "metadata": {
    "papermill": {
     "duration": 0.066275,
     "end_time": "2023-04-05T13:02:45.711229",
     "exception": false,
     "start_time": "2023-04-05T13:02:45.644954",
     "status": "completed"
    },
    "tags": []
   },
   "outputs": [],
   "source": [
    "from imblearn.over_sampling import RandomOverSampler\n",
    "\n",
    "# Инициируем балансировщик с random_state=1\n",
    "random_oversampler = RandomOverSampler(random_state=1)\n",
    "\n",
    "# Fit the original training data to the random_oversampler mode\n",
    "X_resampled, y_resampled = random_oversampler.fit_resample(X_train, y_train)"
   ]
  },
  {
   "cell_type": "code",
   "execution_count": null,
   "id": "91317e87",
   "metadata": {
    "papermill": {
     "duration": 0.032749,
     "end_time": "2023-04-05T13:02:45.761012",
     "exception": false,
     "start_time": "2023-04-05T13:02:45.728263",
     "status": "completed"
    },
    "tags": []
   },
   "outputs": [],
   "source": [
    "# Проверяем сбалансированность классов\n",
    "y_resampled.value_counts()"
   ]
  },
  {
   "cell_type": "markdown",
   "id": "75716bce",
   "metadata": {
    "papermill": {
     "duration": 0.016816,
     "end_time": "2023-04-05T13:02:45.795212",
     "exception": false,
     "start_time": "2023-04-05T13:02:45.778396",
     "status": "completed"
    },
    "tags": []
   },
   "source": [
    "### Построение модели логистической регрессии на сбалансированных данных"
   ]
  },
  {
   "cell_type": "code",
   "execution_count": null,
   "id": "b2df12f9",
   "metadata": {
    "papermill": {
     "duration": 0.636115,
     "end_time": "2023-04-05T13:02:46.448093",
     "exception": false,
     "start_time": "2023-04-05T13:02:45.811978",
     "status": "completed"
    },
    "tags": []
   },
   "outputs": [],
   "source": [
    "# Инициируйте модель логистической регрессии\n",
    "# Назначьте random_state = 1 для воспроизводимости\n",
    "\n",
    "# ваш код здесь\n",
    "\n",
    "# Примерьте тренировочные данные к модели\n",
    "\n",
    "# ваш код здесь\n"
   ]
  },
  {
   "cell_type": "code",
   "execution_count": null,
   "id": "0f70fd12-1f56-4689-996d-14b43deb7b9b",
   "metadata": {},
   "outputs": [],
   "source": [
    "# Сделайте предсказания на тестовых данных\n",
    "\n",
    "# ваш код здесь"
   ]
  },
  {
   "cell_type": "markdown",
   "id": "dd44eca8",
   "metadata": {
    "papermill": {
     "duration": 0.048124,
     "end_time": "2023-04-05T13:02:46.544854",
     "exception": false,
     "start_time": "2023-04-05T13:02:46.496730",
     "status": "completed"
    },
    "tags": []
   },
   "source": [
    "### Print results"
   ]
  },
  {
   "cell_type": "code",
   "execution_count": null,
   "id": "9d0eb593",
   "metadata": {
    "papermill": {
     "duration": 0.032881,
     "end_time": "2023-04-05T13:02:46.604910",
     "exception": false,
     "start_time": "2023-04-05T13:02:46.572029",
     "status": "completed"
    },
    "tags": []
   },
   "outputs": [],
   "source": [
    "# Проверяем точность модели\n"
   ]
  },
  {
   "cell_type": "code",
   "execution_count": null,
   "id": "df3f2520",
   "metadata": {
    "papermill": {
     "duration": 0.030501,
     "end_time": "2023-04-05T13:02:46.652434",
     "exception": false,
     "start_time": "2023-04-05T13:02:46.621933",
     "status": "completed"
    },
    "tags": []
   },
   "outputs": [],
   "source": [
    "# Генерируем матрицу ошибок\n"
   ]
  },
  {
   "cell_type": "code",
   "execution_count": null,
   "id": "c21f1bf6",
   "metadata": {
    "papermill": {
     "duration": 0.051516,
     "end_time": "2023-04-05T13:02:46.721362",
     "exception": false,
     "start_time": "2023-04-05T13:02:46.669846",
     "status": "completed"
    },
    "tags": []
   },
   "outputs": [],
   "source": [
    "# Print the classification report for the model\n"
   ]
  },
  {
   "cell_type": "markdown",
   "id": "db076f84",
   "metadata": {
    "papermill": {
     "duration": 0.017121,
     "end_time": "2023-04-05T13:02:46.755906",
     "exception": false,
     "start_time": "2023-04-05T13:02:46.738785",
     "status": "completed"
    },
    "tags": []
   },
   "source": [
    "<div class=\"alert alert-danger alertdanger\" style=\"margin-top: 20px\">\n",
    "<h1> Ответьте на вопрос: </h1>\n",
    "<b>Как сбалансированность классов повлияла на работу модели?</b> <br>\n",
    "<b>Опирайтесь на метрики точности и матрицу ошибок при своем ответе.</b>\n",
    "</div>"
   ]
  },
  {
   "cell_type": "markdown",
   "id": "3c4e8f05-48e0-424e-b98d-5441d33160d8",
   "metadata": {},
   "source": [
    "Ответ:"
   ]
  },
  {
   "cell_type": "markdown",
   "id": "9d4c89b5",
   "metadata": {
    "papermill": {
     "duration": 0.016546,
     "end_time": "2023-04-05T13:02:46.789424",
     "exception": false,
     "start_time": "2023-04-05T13:02:46.772878",
     "status": "completed"
    },
    "tags": []
   },
   "source": [
    " # Построение модели опорных векторов для предсказания 'loan_status'"
   ]
  },
  {
   "cell_type": "markdown",
   "id": "33796c75",
   "metadata": {
    "papermill": {
     "duration": 0.016732,
     "end_time": "2023-04-05T13:02:46.823274",
     "exception": false,
     "start_time": "2023-04-05T13:02:46.806542",
     "status": "completed"
    },
    "tags": []
   },
   "source": [
    "### Построение модели"
   ]
  },
  {
   "cell_type": "code",
   "execution_count": null,
   "id": "facb419b",
   "metadata": {
    "papermill": {
     "duration": 3.823043,
     "end_time": "2023-04-05T13:02:50.663117",
     "exception": false,
     "start_time": "2023-04-05T13:02:46.840074",
     "status": "completed"
    },
    "tags": []
   },
   "outputs": [],
   "source": [
    "from sklearn import svm\n",
    "model = svm.SVC(kernel='poly', degree=3)\n",
    "model.fit(X_train, y_train)"
   ]
  },
  {
   "cell_type": "code",
   "execution_count": null,
   "id": "9d955932-51aa-4cf5-9d0c-5d2fb1ca6c1c",
   "metadata": {},
   "outputs": [],
   "source": [
    "# Примените GridSearchCV для подбора оптимальных гиперпараметров (по желанию)"
   ]
  },
  {
   "cell_type": "markdown",
   "id": "89335a5c",
   "metadata": {
    "papermill": {
     "duration": 0.01677,
     "end_time": "2023-04-05T13:02:50.697154",
     "exception": false,
     "start_time": "2023-04-05T13:02:50.680384",
     "status": "completed"
    },
    "tags": []
   },
   "source": [
    "### Предсказания на тестовой выборке"
   ]
  },
  {
   "cell_type": "code",
   "execution_count": null,
   "id": "5b02dd86",
   "metadata": {
    "papermill": {
     "duration": 0.530789,
     "end_time": "2023-04-05T13:02:51.245141",
     "exception": false,
     "start_time": "2023-04-05T13:02:50.714352",
     "status": "completed"
    },
    "tags": []
   },
   "outputs": [],
   "source": [
    "# Сделайте предсказания на тестовых данных\n",
    "\n",
    "# ваш код здесь"
   ]
  },
  {
   "cell_type": "markdown",
   "id": "99bf5bea",
   "metadata": {
    "papermill": {
     "duration": 0.017396,
     "end_time": "2023-04-05T13:02:51.281135",
     "exception": false,
     "start_time": "2023-04-05T13:02:51.263739",
     "status": "completed"
    },
    "tags": []
   },
   "source": [
    "### Оценка модели"
   ]
  },
  {
   "cell_type": "code",
   "execution_count": null,
   "id": "f3beb1c4",
   "metadata": {
    "papermill": {
     "duration": 0.031072,
     "end_time": "2023-04-05T13:02:51.329680",
     "exception": false,
     "start_time": "2023-04-05T13:02:51.298608",
     "status": "completed"
    },
    "tags": []
   },
   "outputs": [],
   "source": [
    "# выведите balanced_accuracy_score\n"
   ]
  },
  {
   "cell_type": "code",
   "execution_count": null,
   "id": "79212c42",
   "metadata": {
    "papermill": {
     "duration": 0.030634,
     "end_time": "2023-04-05T13:02:51.378816",
     "exception": false,
     "start_time": "2023-04-05T13:02:51.348182",
     "status": "completed"
    },
    "tags": []
   },
   "outputs": [],
   "source": [
    "# Сгенерируйте confusion_matrix для модели\n"
   ]
  },
  {
   "cell_type": "code",
   "execution_count": null,
   "id": "b4fabb40",
   "metadata": {
    "papermill": {
     "duration": 0.051265,
     "end_time": "2023-04-05T13:02:51.447596",
     "exception": false,
     "start_time": "2023-04-05T13:02:51.396331",
     "status": "completed"
    },
    "tags": []
   },
   "outputs": [],
   "source": [
    "# Выведите classification_report для модели\n"
   ]
  },
  {
   "cell_type": "markdown",
   "id": "7cde3fc9",
   "metadata": {
    "papermill": {
     "duration": 0.017141,
     "end_time": "2023-04-05T13:02:51.482293",
     "exception": false,
     "start_time": "2023-04-05T13:02:51.465152",
     "status": "completed"
    },
    "tags": []
   },
   "source": [
    "# Построение дерева решений для предсказания 'loan_status'"
   ]
  },
  {
   "cell_type": "markdown",
   "id": "b7054361",
   "metadata": {
    "papermill": {
     "duration": 0.017908,
     "end_time": "2023-04-05T13:02:51.517959",
     "exception": false,
     "start_time": "2023-04-05T13:02:51.500051",
     "status": "completed"
    },
    "tags": []
   },
   "source": [
    "### Построение модели"
   ]
  },
  {
   "cell_type": "code",
   "execution_count": null,
   "id": "c83d83ac",
   "metadata": {
    "papermill": {
     "duration": 0.048074,
     "end_time": "2023-04-05T13:02:51.583746",
     "exception": false,
     "start_time": "2023-04-05T13:02:51.535672",
     "status": "completed"
    },
    "tags": []
   },
   "outputs": [],
   "source": [
    "from sklearn.tree import DecisionTreeClassifier\n",
    "\n",
    "# постройте базовую модель с дефолтными параметрами и примерьте тренировочные данные\n",
    "\n",
    "# ваш код здесь\n"
   ]
  },
  {
   "cell_type": "markdown",
   "id": "c4b6c50a",
   "metadata": {
    "papermill": {
     "duration": 0.017157,
     "end_time": "2023-04-05T13:02:51.618699",
     "exception": false,
     "start_time": "2023-04-05T13:02:51.601542",
     "status": "completed"
    },
    "tags": []
   },
   "source": [
    "### Предсказания на тестовой выборке"
   ]
  },
  {
   "cell_type": "code",
   "execution_count": null,
   "id": "f7981ada",
   "metadata": {
    "papermill": {
     "duration": 0.030586,
     "end_time": "2023-04-05T13:02:51.666781",
     "exception": false,
     "start_time": "2023-04-05T13:02:51.636195",
     "status": "completed"
    },
    "tags": []
   },
   "outputs": [],
   "source": [
    "# Сделайте предсказания на тестовых данных\n",
    "\n",
    "# ваш код здесь\n"
   ]
  },
  {
   "cell_type": "code",
   "execution_count": null,
   "id": "8e4d1a02",
   "metadata": {
    "papermill": {
     "duration": 0.031431,
     "end_time": "2023-04-05T13:02:51.715958",
     "exception": false,
     "start_time": "2023-04-05T13:02:51.684527",
     "status": "completed"
    },
    "tags": []
   },
   "outputs": [],
   "source": [
    "# оцените точность модели (balanced_accuracy_score)\n",
    "\n",
    "# ваш код здесь\n"
   ]
  },
  {
   "cell_type": "markdown",
   "id": "39e503c7",
   "metadata": {
    "papermill": {
     "duration": 0.017348,
     "end_time": "2023-04-05T13:02:51.798421",
     "exception": false,
     "start_time": "2023-04-05T13:02:51.781073",
     "status": "completed"
    },
    "tags": []
   },
   "source": [
    "### Визуализируйте дерево решений"
   ]
  },
  {
   "cell_type": "code",
   "execution_count": null,
   "id": "2bf54d4d",
   "metadata": {
    "papermill": {
     "duration": 1.355939,
     "end_time": "2023-04-05T13:02:53.172961",
     "exception": false,
     "start_time": "2023-04-05T13:02:51.817022",
     "status": "completed"
    },
    "tags": []
   },
   "outputs": [],
   "source": [
    "from sklearn import tree\n",
    "\n",
    "feature_names = df.columns.values.tolist()\n",
    "feature_names.remove('loan_status')\n",
    "\n",
    "fig = plt.figure(figsize=(25,20))\n",
    "_ = tree.plot_tree(model_corrected, \n",
    "                   feature_names=feature_names,  \n",
    "                   class_names=['0', '1'],\n",
    "                   filled=True)"
   ]
  },
  {
   "cell_type": "code",
   "execution_count": null,
   "id": "a1edebaa",
   "metadata": {
    "papermill": {
     "duration": 0.653778,
     "end_time": "2023-04-05T13:02:53.849675",
     "exception": false,
     "start_time": "2023-04-05T13:02:53.195897",
     "status": "completed"
    },
    "tags": []
   },
   "outputs": [],
   "source": [
    "fig.savefig(\"decision_tree.png\")"
   ]
  },
  {
   "cell_type": "markdown",
   "id": "5a4a1fb9",
   "metadata": {
    "papermill": {
     "duration": 0.02145,
     "end_time": "2023-04-05T13:02:53.892799",
     "exception": false,
     "start_time": "2023-04-05T13:02:53.871349",
     "status": "completed"
    },
    "tags": []
   },
   "source": [
    "### Настройка гиперпараметров"
   ]
  },
  {
   "cell_type": "markdown",
   "id": "050fe7fe-fa01-4431-9bde-b0065754c7cd",
   "metadata": {},
   "source": [
    "Воспользуйтесь алгоритмом GridSearchCV для автоматического подбора гиперпараметров. Можете поэкспериментировать с диапазонами и критериями. После подбора лучших параметров вернитесь к пункту \"Построение модели\" и укажите новые параметры сборки. Сделайте предсказания, оцените модель и визуализируйте дерево решений. "
   ]
  },
  {
   "cell_type": "markdown",
   "id": "0e24eed3-33c3-47d9-aba3-a0b61b267aa6",
   "metadata": {},
   "source": [
    "<div class=\"alert alert-danger alertdanger\" style=\"margin-top: 20px\">\n",
    "<h1> Внимательно! </h1>\n",
    "<b>В итоге у вас должно получиться две визуализации дерева решений. Не забудьте переименовать перед сохранением.</b>\n",
    "</div>"
   ]
  },
  {
   "cell_type": "code",
   "execution_count": null,
   "id": "f9323c73",
   "metadata": {
    "papermill": {
     "duration": 0.031339,
     "end_time": "2023-04-05T13:02:53.945802",
     "exception": false,
     "start_time": "2023-04-05T13:02:53.914463",
     "status": "completed"
    },
    "tags": []
   },
   "outputs": [],
   "source": [
    "# from sklearn.model_selection import GridSearchCV\n",
    "\n",
    "# grid_param = {\n",
    "# 'criterion': ['gini', 'entropy'],\n",
    "# 'splitter' : ['best', 'random'],\n",
    "# 'max_depth': [3,5,10,None],\n",
    "# 'max_features': [1,3,5,7],\n",
    "# 'min_samples_leaf': [1,2,3],\n",
    "# 'min_samples_split': [1,2,3]\n",
    "# }\n",
    "\n",
    "# grid_search = GridSearchCV(estimator=model,param_grid=grid_param,cv=5,n_jobs =-1)\n",
    "\n",
    "# grid_search.fit(X_train,y_train)"
   ]
  },
  {
   "cell_type": "code",
   "execution_count": null,
   "id": "08abe259",
   "metadata": {
    "papermill": {
     "duration": 0.031283,
     "end_time": "2023-04-05T13:02:53.998853",
     "exception": false,
     "start_time": "2023-04-05T13:02:53.967570",
     "status": "completed"
    },
    "tags": []
   },
   "outputs": [],
   "source": [
    "# best_parameters = grid_search.best_params_\n",
    "# print(best_parameters)"
   ]
  },
  {
   "cell_type": "code",
   "execution_count": null,
   "id": "7eadb3ef",
   "metadata": {
    "papermill": {
     "duration": 0.031037,
     "end_time": "2023-04-05T13:02:54.051683",
     "exception": false,
     "start_time": "2023-04-05T13:02:54.020646",
     "status": "completed"
    },
    "tags": []
   },
   "outputs": [],
   "source": [
    "# print(grid_search.best_score_)"
   ]
  },
  {
   "cell_type": "code",
   "execution_count": null,
   "id": "dd2e0a03-a1d0-4d38-9798-55a18808328b",
   "metadata": {},
   "outputs": [],
   "source": []
  }
 ],
 "metadata": {
  "kernelspec": {
   "display_name": "Python 3 (ipykernel)",
   "language": "python",
   "name": "python3"
  },
  "language_info": {
   "codemirror_mode": {
    "name": "ipython",
    "version": 3
   },
   "file_extension": ".py",
   "mimetype": "text/x-python",
   "name": "python",
   "nbconvert_exporter": "python",
   "pygments_lexer": "ipython3",
   "version": "3.11.7"
  },
  "papermill": {
   "default_parameters": {},
   "duration": 26.614032,
   "end_time": "2023-04-05T13:02:54.897119",
   "environment_variables": {},
   "exception": null,
   "input_path": "__notebook__.ipynb",
   "output_path": "__notebook__.ipynb",
   "parameters": {},
   "start_time": "2023-04-05T13:02:28.283087",
   "version": "2.4.0"
  }
 },
 "nbformat": 4,
 "nbformat_minor": 5
}
